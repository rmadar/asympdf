{
 "cells": [
  {
   "cell_type": "code",
   "execution_count": 2,
   "metadata": {},
   "outputs": [],
   "source": [
    "import numpy as np"
   ]
  },
  {
   "cell_type": "code",
   "execution_count": 4,
   "metadata": {},
   "outputs": [],
   "source": [
    "cov = np.array([\n",
    "    [ 1.0000, -0.1949,  0.2583, -0.3933],\n",
    "    [-0.1949,  1.0000, -0.1188,  0.2919],\n",
    "    [ 0.2583, -0.1188,  1.0000, -0.3443],\n",
    "    [-0.3933,  0.2919, -0.3443,  1.0000],\n",
    "])"
   ]
  },
  {
   "cell_type": "code",
   "execution_count": 5,
   "metadata": {},
   "outputs": [],
   "source": [
    "c1, up1, do1 = 294288603.77097332, 29726222.606283784, -23672504.108643234\n",
    "c2, up2, do2 = 1422822752.7824574, 34181144.593426704, -33513316.302916765\n",
    "c3, up3, do3 = 1267256904.8604925, 34413027.555306196, -32740743.069167614\n",
    "c4, up4, do4 = 189913774.63168541, 17348726.511133254, -19868612.427323759"
   ]
  },
  {
   "cell_type": "code",
   "execution_count": null,
   "metadata": {},
   "outputs": [],
   "source": []
  }
 ],
 "metadata": {
  "kernelspec": {
   "display_name": "Python 3",
   "language": "python",
   "name": "python3"
  },
  "language_info": {
   "codemirror_mode": {
    "name": "ipython",
    "version": 3
   },
   "file_extension": ".py",
   "mimetype": "text/x-python",
   "name": "python",
   "nbconvert_exporter": "python",
   "pygments_lexer": "ipython3",
   "version": "3.8.3"
  }
 },
 "nbformat": 4,
 "nbformat_minor": 4
}
